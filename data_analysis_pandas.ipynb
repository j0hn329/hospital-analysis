{
 "cells": [
  {
   "cell_type": "markdown",
   "id": "63b551ba",
   "metadata": {},
   "source": [
    "# Hospital Ownership and Quality of Care"
   ]
  },
  {
   "cell_type": "markdown",
   "id": "e6486827",
   "metadata": {},
   "source": [
    "## Aim of analysis"
   ]
  },
  {
   "cell_type": "markdown",
   "id": "4be7fd69",
   "metadata": {},
   "source": [
    "To assess which ownership group has the highest proportion of its hospitals with overall quality of care better than the national average"
   ]
  },
  {
   "cell_type": "markdown",
   "id": "35986300",
   "metadata": {},
   "source": [
    "### 1. Processing relevant data from database"
   ]
  },
  {
   "cell_type": "code",
   "execution_count": null,
   "id": "8d43ccdb",
   "metadata": {
    "scrolled": true
   },
   "outputs": [],
   "source": [
    "import sqlite3\n",
    "import pandas as pd\n",
    "import numpy as np\n",
    "from functools import reduce\n",
    "pd.options.mode.chained_assignment = None \n",
    "\n",
    "conn = sqlite3.connect(\"Hospital.db\")\n",
    "c = conn.cursor()\n",
    "\n",
    "hospital_df = pd.read_sql_query('''\n",
    "SELECT hospital_info.provider_id, hospital_info.hospital_name, hospital_info.ownership, hospital_info.rating,\n",
    "   quality_of_care.mortality_nat_comparison, quality_of_care.safety_of_care_nat_comparison, \n",
    "   quality_of_care.readmission_nat_comparison, quality_of_care.patient_experience_nat_comparison,\n",
    "   quality_of_care.effectiveness_of_care_nat_comparison, quality_of_care.timeliness_of_care_nat_comparison,\n",
    "   quality_of_care.efficient_imaging_nat_comparison\n",
    "FROM hospital_info\n",
    "LEFT JOIN quality_of_care on hospital_info.provider_id = quality_of_care.provider_id\n",
    "''', conn)\n",
    "\n",
    "conn.close()"
   ]
  },
  {
   "cell_type": "markdown",
   "id": "d90325bc",
   "metadata": {},
   "source": [
    "### 2. Data information"
   ]
  },
  {
   "cell_type": "code",
   "execution_count": null,
   "id": "4ae90bea",
   "metadata": {
    "scrolled": true
   },
   "outputs": [],
   "source": [
    "hospital_df.head()"
   ]
  },
  {
   "cell_type": "code",
   "execution_count": null,
   "id": "f6ef019b",
   "metadata": {},
   "outputs": [],
   "source": [
    "hospital_df.info()"
   ]
  },
  {
   "cell_type": "code",
   "execution_count": null,
   "id": "ca9809fc",
   "metadata": {
    "scrolled": false
   },
   "outputs": [],
   "source": [
    "hospital_df.shape"
   ]
  },
  {
   "cell_type": "markdown",
   "id": "354398c6",
   "metadata": {},
   "source": [
    "#### 2.1 Displaying and visualising the average rating of each ownership group"
   ]
  },
  {
   "cell_type": "code",
   "execution_count": null,
   "id": "514be812",
   "metadata": {
    "scrolled": true
   },
   "outputs": [],
   "source": [
    "avg_rating = hospital_df.groupby('ownership')['rating'].mean()\n",
    "avg_rating.sort_values(ascending = False)"
   ]
  },
  {
   "cell_type": "code",
   "execution_count": null,
   "id": "cd8c9500",
   "metadata": {},
   "outputs": [],
   "source": [
    "avg_rating.plot(kind = 'bar')"
   ]
  },
  {
   "cell_type": "markdown",
   "id": "91654f21",
   "metadata": {},
   "source": [
    "### 3. Cleaning data"
   ]
  },
  {
   "cell_type": "markdown",
   "id": "e807e224",
   "metadata": {},
   "source": [
    "#### 3.1 Dealing with missing data"
   ]
  },
  {
   "cell_type": "code",
   "execution_count": null,
   "id": "9ee27196",
   "metadata": {
    "scrolled": true
   },
   "outputs": [],
   "source": [
    "hospital_df.replace(\"Not Available\", np.nan, inplace=True)\n",
    "\n",
    "hospital_df.dropna(how='all', inplace=True)"
   ]
  },
  {
   "cell_type": "markdown",
   "id": "b369f526",
   "metadata": {},
   "source": [
    "#### 3.2 Removing hospital ownerships with small sample size"
   ]
  },
  {
   "cell_type": "code",
   "execution_count": null,
   "id": "f9d573cc",
   "metadata": {
    "scrolled": true
   },
   "outputs": [],
   "source": [
    "df2 = hospital_df.groupby('ownership')['ownership'].count()\n",
    "df200 = df2[df2 < 200]\n",
    "\n",
    "df200"
   ]
  },
  {
   "cell_type": "code",
   "execution_count": null,
   "id": "130dc4b0",
   "metadata": {},
   "outputs": [],
   "source": [
    "remove_owners = ['Government - Federal', 'Government - State', 'Physician', 'Tribal']\n",
    "\n",
    "clean_data = hospital_df[hospital_df.ownership.isin(remove_owners) == False]"
   ]
  },
  {
   "cell_type": "markdown",
   "id": "b2aa0516",
   "metadata": {},
   "source": [
    "#### 3.3 Displaying the number of hospitals owned by the remaining groups"
   ]
  },
  {
   "cell_type": "code",
   "execution_count": null,
   "id": "308f2e89",
   "metadata": {
    "scrolled": true
   },
   "outputs": [],
   "source": [
    "count_owners = clean_data.groupby('ownership')['ownership'].count()\n",
    "count_owners"
   ]
  },
  {
   "cell_type": "markdown",
   "id": "30403454",
   "metadata": {},
   "source": [
    "#### 3.4 Visualising the number of hospitals owned by each group"
   ]
  },
  {
   "cell_type": "code",
   "execution_count": null,
   "id": "c025fd5a",
   "metadata": {
    "scrolled": true
   },
   "outputs": [],
   "source": [
    "count_owners.plot(kind='pie')"
   ]
  },
  {
   "cell_type": "markdown",
   "id": "d90bf12b",
   "metadata": {},
   "source": [
    "### 4. Data analysis"
   ]
  },
  {
   "cell_type": "markdown",
   "id": "6194c0d9",
   "metadata": {},
   "source": [
    "#### 4.1 Calculating the proportion of each quality of care measurement below, above and same as the national average grouped by hospital ownership "
   ]
  },
  {
   "cell_type": "code",
   "execution_count": null,
   "id": "8da11e6e",
   "metadata": {
    "scrolled": true
   },
   "outputs": [],
   "source": [
    "pat_exp_df = clean_data.groupby('ownership')['patient_experience_nat_comparison'].value_counts(normalize=True)\n",
    "mort_df = clean_data.groupby('ownership')['mortality_nat_comparison'].value_counts(normalize=True)\n",
    "soc_df = clean_data.groupby('ownership')['safety_of_care_nat_comparison'].value_counts(normalize=True)\n",
    "read_df = clean_data.groupby('ownership')['readmission_nat_comparison'].value_counts(normalize=True)\n",
    "eoc_df = clean_data.groupby('ownership')['effectiveness_of_care_nat_comparison'].value_counts(normalize=True)\n",
    "time_df = clean_data.groupby('ownership')['timeliness_of_care_nat_comparison'].value_counts(normalize=True)\n",
    "eff_img_df = clean_data.groupby('ownership')['efficient_imaging_nat_comparison'].value_counts(normalize=True)\n",
    "\n",
    "n1 = pat_exp_df.reset_index(name = 'pat_exp')\n",
    "n2 = soc_df.reset_index(name = 'soc')\n",
    "n3 = eoc_df.reset_index(name = 'eoc')\n",
    "n4 = time_df.reset_index(name = 'time')\n",
    "n5 = eff_img_df.reset_index(name = 'eff_img')\n",
    "\n",
    "n6 = mort_df.reset_index(name = 'mort')\n",
    "n7 = read_df.reset_index(name = 'read')\n",
    "\n",
    "n1"
   ]
  },
  {
   "cell_type": "markdown",
   "id": "93f39057",
   "metadata": {},
   "source": [
    "#### 4.2 Selecting proportions for 5 quality of care measurements that are above the national average"
   ]
  },
  {
   "cell_type": "code",
   "execution_count": null,
   "id": "28ef4a2a",
   "metadata": {
    "scrolled": false
   },
   "outputs": [],
   "source": [
    "above1 = n1[n1['patient_experience_nat_comparison'] == \"Above the national average\"]\n",
    "above2 = n2[n2['safety_of_care_nat_comparison'] == \"Above the national average\"]\n",
    "above3 = n3[n3['effectiveness_of_care_nat_comparison'] == \"Above the national average\"]\n",
    "above4 = n4[n4['timeliness_of_care_nat_comparison'] == \"Above the national average\"]\n",
    "above5 = n5[n5['efficient_imaging_nat_comparison'] == \"Above the national average\"]\n",
    "\n",
    "above1"
   ]
  },
  {
   "cell_type": "markdown",
   "id": "fa3b829a",
   "metadata": {},
   "source": [
    "#### 4.3 Selecting proportions for the 2 remaining quality of care measurements that are below the national average "
   ]
  },
  {
   "cell_type": "code",
   "execution_count": null,
   "id": "9aa8334f",
   "metadata": {},
   "outputs": [],
   "source": [
    "below6 = n6[n6['mortality_nat_comparison'] == \"Below the national average\"]\n",
    "below7 = n7[n7['readmission_nat_comparison'] == \"Below the national average\"]\n",
    "\n",
    "below6"
   ]
  },
  {
   "cell_type": "markdown",
   "id": "70cad525",
   "metadata": {},
   "source": [
    "#### 4.4 Dropping the national comparison for each quality of care measurement"
   ]
  },
  {
   "cell_type": "code",
   "execution_count": null,
   "id": "8a3338db",
   "metadata": {
    "scrolled": false
   },
   "outputs": [],
   "source": [
    "above1.drop('patient_experience_nat_comparison', axis=1, inplace=True)\n",
    "above2.drop('safety_of_care_nat_comparison', axis = 1, inplace=True)\n",
    "above3.drop('effectiveness_of_care_nat_comparison', axis = 1, inplace=True)\n",
    "above4.drop('timeliness_of_care_nat_comparison', axis = 1, inplace=True)\n",
    "above5.drop('efficient_imaging_nat_comparison', axis = 1, inplace=True)\n",
    "\n",
    "below6.drop('mortality_nat_comparison', axis = 1, inplace=True)\n",
    "below7.drop('readmission_nat_comparison', axis = 1, inplace=True)\n",
    "\n",
    "above1"
   ]
  },
  {
   "cell_type": "markdown",
   "id": "65ffff8a",
   "metadata": {},
   "source": [
    "#### 4.5 Merging the quality of care proportion for each measurement into one dataframe  "
   ]
  },
  {
   "cell_type": "code",
   "execution_count": null,
   "id": "d7958c1c",
   "metadata": {
    "scrolled": true
   },
   "outputs": [],
   "source": [
    "# referenced from https://stackoverflow.com/questions/23668427/pandas-three-way-joining-multiple-dataframes-on-columns\n",
    "\n",
    "data_frames = [above1, above2, above3, above4, above5, below6, below7]\n",
    "\n",
    "df_merged = reduce(lambda left,right: pd.merge(left,right,on=['ownership'],\n",
    "                                            how='outer'), data_frames)\n",
    "\n",
    "df_merged"
   ]
  },
  {
   "cell_type": "markdown",
   "id": "ae47befe",
   "metadata": {},
   "source": [
    "#### 4.6 Calculating the average quality of care better than the national average  for each hospital group"
   ]
  },
  {
   "cell_type": "code",
   "execution_count": null,
   "id": "fe0caf45",
   "metadata": {
    "scrolled": true
   },
   "outputs": [],
   "source": [
    "df_merged['sum'] = df_merged['pat_exp'] + df_merged['soc']  + df_merged['eoc'] + df_merged['time'] + df_merged['eff_img'] + df_merged['mort'] + df_merged['read'] \n",
    "\n",
    "df_merged['quality_of_care'] = df_merged['sum'] / 7\n",
    "\n",
    "df_merged"
   ]
  },
  {
   "cell_type": "markdown",
   "id": "207aa662",
   "metadata": {},
   "source": [
    "#### 4.7 Displaying the final dataframe containing each hospital group and the associated quality of care better than national average proportion"
   ]
  },
  {
   "cell_type": "code",
   "execution_count": null,
   "id": "be57b131",
   "metadata": {
    "scrolled": false
   },
   "outputs": [],
   "source": [
    "df_final = df_merged[['ownership','quality_of_care']]\n",
    "\n",
    "df_final.sort_values(by='quality_of_care', ascending = False)"
   ]
  },
  {
   "cell_type": "markdown",
   "id": "0aa735fa",
   "metadata": {},
   "source": [
    "#### 4.8 Visualising the final result "
   ]
  },
  {
   "cell_type": "code",
   "execution_count": null,
   "id": "ffffab43",
   "metadata": {
    "scrolled": true
   },
   "outputs": [],
   "source": [
    "df_final.plot.bar(x='ownership')"
   ]
  },
  {
   "cell_type": "markdown",
   "id": "568d7a87",
   "metadata": {},
   "source": [
    "### 5. Conclusion "
   ]
  },
  {
   "cell_type": "markdown",
   "id": "71b55b00",
   "metadata": {},
   "source": [
    "- hospitals owned by Voluntary non-profit - Church have the highest proportion of its hospitals with overall quality of care better than the national average\n",
    "- further information will be detailed in the project report "
   ]
  }
 ],
 "metadata": {
  "kernelspec": {
   "display_name": "Python 3 (ipykernel)",
   "language": "python",
   "name": "python3"
  },
  "language_info": {
   "codemirror_mode": {
    "name": "ipython",
    "version": 3
   },
   "file_extension": ".py",
   "mimetype": "text/x-python",
   "name": "python",
   "nbconvert_exporter": "python",
   "pygments_lexer": "ipython3",
   "version": "3.8.8"
  }
 },
 "nbformat": 4,
 "nbformat_minor": 5
}
